{
 "cells": [
  {
   "cell_type": "markdown",
   "metadata": {},
   "source": [
    "### Dictionaries\n",
    "- It works on the concept of Set Unique Data\n",
    "- Keys,Values is the unique identifier for a value\n",
    "- Each key is separted from its values with colon(:)\n",
    "- Each key and value is separted by comma(,)\n",
    "- Dictionaries enclosed with Curly braces({})"
   ]
  },
  {
   "cell_type": "code",
   "execution_count": 7,
   "metadata": {},
   "outputs": [
    {
     "name": "stdout",
     "output_type": "stream",
     "text": [
      "{'Name': 'Gitam', 'EmailId': 'gitam@gmail.com', 'Address': 'Hyderabad'}\n"
     ]
    }
   ],
   "source": [
    "d1 = {\"Name\":\"Gitam\",\"EmailId\":\"gitam@gmail.com\",\"Address\":\"Hyderabad\"}\n",
    "print(d1)\n"
   ]
  },
  {
   "cell_type": "code",
   "execution_count": 10,
   "metadata": {},
   "outputs": [
    {
     "data": {
      "text/plain": [
       "'Gitam'"
      ]
     },
     "execution_count": 10,
     "metadata": {},
     "output_type": "execute_result"
    }
   ],
   "source": [
    "d1[\"Name\"] # Access the specific key"
   ]
  },
  {
   "cell_type": "code",
   "execution_count": 18,
   "metadata": {},
   "outputs": [],
   "source": [
    "d1['EmailId'] = 'gitam-python@gmail.com'"
   ]
  },
  {
   "cell_type": "code",
   "execution_count": 20,
   "metadata": {},
   "outputs": [
    {
     "data": {
      "text/plain": [
       "'gitam-python@gmail.com'"
      ]
     },
     "execution_count": 20,
     "metadata": {},
     "output_type": "execute_result"
    }
   ],
   "source": [
    "d1['EmailId']"
   ]
  },
  {
   "cell_type": "code",
   "execution_count": 22,
   "metadata": {},
   "outputs": [
    {
     "ename": "KeyError",
     "evalue": "'EmailId'",
     "output_type": "error",
     "traceback": [
      "\u001b[1;31m---------------------------------------------------------------------------\u001b[0m",
      "\u001b[1;31mKeyError\u001b[0m                                  Traceback (most recent call last)",
      "\u001b[1;32m<ipython-input-22-fe4225018f6b>\u001b[0m in \u001b[0;36m<module>\u001b[1;34m()\u001b[0m\n\u001b[1;32m----> 1\u001b[1;33m \u001b[1;32mdel\u001b[0m \u001b[0md1\u001b[0m\u001b[1;33m[\u001b[0m\u001b[1;34m'EmailId'\u001b[0m\u001b[1;33m]\u001b[0m \u001b[1;31m#Delete the specific key value\u001b[0m\u001b[1;33m\u001b[0m\u001b[0m\n\u001b[0m",
      "\u001b[1;31mKeyError\u001b[0m: 'EmailId'"
     ]
    }
   ],
   "source": [
    "del d1['EmailId'] #Delete the specific key value"
   ]
  },
  {
   "cell_type": "code",
   "execution_count": 23,
   "metadata": {},
   "outputs": [
    {
     "data": {
      "text/plain": [
       "{'Name': 'Gitam', 'Address': 'Hyderabad'}"
      ]
     },
     "execution_count": 23,
     "metadata": {},
     "output_type": "execute_result"
    }
   ],
   "source": [
    "d1"
   ]
  },
  {
   "cell_type": "code",
   "execution_count": 25,
   "metadata": {},
   "outputs": [
    {
     "data": {
      "text/plain": [
       "dict_keys(['Name', 'Address'])"
      ]
     },
     "execution_count": 25,
     "metadata": {},
     "output_type": "execute_result"
    }
   ],
   "source": [
    "d1.keys() # returns the values"
   ]
  },
  {
   "cell_type": "code",
   "execution_count": 27,
   "metadata": {},
   "outputs": [
    {
     "data": {
      "text/plain": [
       "dict_values(['Gitam', 'Hyderabad'])"
      ]
     },
     "execution_count": 27,
     "metadata": {},
     "output_type": "execute_result"
    }
   ],
   "source": [
    "d1.values() # returns the values"
   ]
  },
  {
   "cell_type": "code",
   "execution_count": 29,
   "metadata": {},
   "outputs": [
    {
     "data": {
      "text/plain": [
       "dict_items([('Name', 'Gitam'), ('Address', 'Hyderabad')])"
      ]
     },
     "execution_count": 29,
     "metadata": {},
     "output_type": "execute_result"
    }
   ],
   "source": [
    "d1.items() # the list of tuples of keys and values"
   ]
  },
  {
   "cell_type": "markdown",
   "metadata": {},
   "source": [
    "### Tuples\n",
    "- t1 parenthesis() li square brackets[]\n",
    "- Difference between list and tuples\n",
    "- list are mutable - can be changed / modified\n",
    "   - Used to access modify, Add. Delete data\n",
    "- Tuples are immutable - cannot be changed\n",
    "   - Used to access data only"
   ]
  },
  {
   "cell_type": "code",
   "execution_count": 30,
   "metadata": {},
   "outputs": [
    {
     "data": {
      "text/plain": [
       "(1, 2, 3, 4, 5)"
      ]
     },
     "execution_count": 30,
     "metadata": {},
     "output_type": "execute_result"
    }
   ],
   "source": [
    "d1 =(1,2,3,4,5)\n",
    "d1"
   ]
  },
  {
   "cell_type": "markdown",
   "metadata": {},
   "source": [
    "### Contact Application\n",
    "- Add contact\n",
    "- search the contact\n",
    "- list all contacts\n",
    "    - name1 : phone1\n",
    "    - name2 : phone2\n",
    "- modify the contact\n",
    "- remove the contact\n",
    "- import the contact"
   ]
  },
  {
   "cell_type": "code",
   "execution_count": 34,
   "metadata": {},
   "outputs": [
    {
     "name": "stdout",
     "output_type": "stream",
     "text": [
      "contact details are added\n",
      "contact details are added\n",
      "contact details are already exits\n",
      "contact details are already exits\n"
     ]
    }
   ],
   "source": [
    "# Add contact\n",
    "contacts = {} # Creating a dict object\n",
    "def addcontact(name,phone):\n",
    "    if name not in contacts and phone not in contacts :\n",
    "        contacts[name]=phone\n",
    "        print(\"contact details are added\")\n",
    "    else :\n",
    "         print(\"contact details are already exits\")\n",
    "    return\n",
    "addcontact(\"boi\",\"5462215453\")\n",
    "addcontact(\"breh\",\"367685132\")\n",
    "addcontact(\"breh\",\"367685132\")\n",
    "addcontact(\"breh\",\"367685333\")"
   ]
  },
  {
   "cell_type": "code",
   "execution_count": 38,
   "metadata": {},
   "outputs": [
    {
     "name": "stdout",
     "output_type": "stream",
     "text": [
      "harsha does not exits\n",
      "boi : 5462215453\n"
     ]
    }
   ],
   "source": [
    "# Search for contact details\n",
    "def searchcontact(name):\n",
    "    if name in contacts:\n",
    "        print(name, \":\" , contacts[name])\n",
    "    else :\n",
    "         print(\"%s does not exits\" % name)\n",
    "    return\n",
    "searchcontact('harsha')\n",
    "searchcontact('boi')"
   ]
  },
  {
   "cell_type": "code",
   "execution_count": 43,
   "metadata": {},
   "outputs": [
    {
     "name": "stdout",
     "output_type": "stream",
     "text": [
      "2 contacts added successfully\n"
     ]
    }
   ],
   "source": [
    "# Merge the contacts with existing one\n",
    "def importcontact(newcontact):\n",
    "    contacts.update(newcontacts)\n",
    "    print(len(newcontacts.keys()),\"contacts added successfully\")\n",
    "    return\n",
    "newcontacts = {'dinesh':9988456415,'ajay':6466548578}\n",
    "importcontact(newcontacts)"
   ]
  },
  {
   "cell_type": "code",
   "execution_count": 49,
   "metadata": {},
   "outputs": [
    {
     "name": "stdout",
     "output_type": "stream",
     "text": [
      "boi deleted successfully\n",
      "{'breh': '367685132', 'dinesh': 9988456415}\n"
     ]
    }
   ],
   "source": [
    "# Delete a contact\n",
    "def deletecontact(name):\n",
    "    if name in contacts:\n",
    "        del contacts[name]\n",
    "        print(name,\"deleted successfully\")\n",
    "    else:\n",
    "        print(name,\"not exits\")\n",
    "    return\n",
    "deletecontact(\"boi\")\n",
    "print(contacts)"
   ]
  },
  {
   "cell_type": "code",
   "execution_count": 52,
   "metadata": {},
   "outputs": [
    {
     "name": "stdout",
     "output_type": "stream",
     "text": [
      "dinesh update successfully\n",
      "boi not exists\n"
     ]
    }
   ],
   "source": [
    "# Update the contact details\n",
    "def deletecontact(name,phone):\n",
    "    if name in contacts:\n",
    "        contacts[name] = phone\n",
    "        print(name,\"update successfully\")\n",
    "    else :\n",
    "        print(name,\"not exists\")\n",
    "    return\n",
    "deletecontact('dinesh',9988456415)\n",
    "deletecontact('boi',5462215453)"
   ]
  },
  {
   "cell_type": "code",
   "execution_count": 2,
   "metadata": {},
   "outputs": [
    {
     "name": "stdout",
     "output_type": "stream",
     "text": [
      "1 3 9 27 81 243 "
     ]
    }
   ],
   "source": [
    "\n",
    "def cube(n):\n",
    "    i=0\n",
    "    while i<=n:\n",
    "        j=3**i\n",
    "        print(j,end=\" \")\n",
    "        i+=1\n",
    "    return\n",
    "cube(5)"
   ]
  },
  {
   "cell_type": "code",
   "execution_count": 5,
   "metadata": {},
   "outputs": [
    {
     "name": "stdout",
     "output_type": "stream",
     "text": [
      "1 2 4 8 16 32 "
     ]
    }
   ],
   "source": [
    "\n",
    "def cube(n):\n",
    "    i=0\n",
    "    while i<=n:\n",
    "        j=2**i\n",
    "        print(j,end=\" \")\n",
    "        i+=1\n",
    "    return\n",
    "cube(5)"
   ]
  },
  {
   "cell_type": "code",
   "execution_count": 10,
   "metadata": {},
   "outputs": [
    {
     "name": "stdout",
     "output_type": "stream",
     "text": [
      "2 15 41 80 132 197 275 366 470 587 "
     ]
    }
   ],
   "source": [
    "def series(n):\n",
    "    i=2\n",
    "    j=0\n",
    "    while i<=n:\n",
    "        i = i+13*j\n",
    "        print(i,end=\" \")\n",
    "        j+=1\n",
    "    return\n",
    "series(500)"
   ]
  },
  {
   "cell_type": "code",
   "execution_count": 13,
   "metadata": {},
   "outputs": [
    {
     "name": "stdout",
     "output_type": "stream",
     "text": [
      "HbonTch"
     ]
    }
   ],
   "source": [
    "\n",
    "def remchar(s,c):\n",
    "    for i in range(len(s)):\n",
    "        if (ord(s[i])>=97 and ord(s[i])<=122) or (ord(s[i])>=65 and ord(s[i])<=90) or ord(s[i])==32:\n",
    "            if s[i]!=c:\n",
    "                print(s[i],end=\"\")\n",
    "    return\n",
    "s=\"HebeonTech\"\n",
    "c=\"e\"\n",
    "remchar(s,c)"
   ]
  },
  {
   "cell_type": "code",
   "execution_count": 2,
   "metadata": {},
   "outputs": [
    {
     "name": "stdout",
     "output_type": "stream",
     "text": [
      "1 9 25 49 81 "
     ]
    }
   ],
   "source": [
    "def series1(n):\n",
    "    i=1\n",
    "    j=0\n",
    "    k=0\n",
    "    while i<=n and k<2:\n",
    "            i = i+j\n",
    "            print(i,end=\" \")\n",
    "            j+=8\n",
    "    return\n",
    "series1(50)"
   ]
  },
  {
   "cell_type": "code",
   "execution_count": null,
   "metadata": {},
   "outputs": [
    {
     "name": "stdout",
     "output_type": "stream",
     "text": [
      "Enter the number5\n",
      "Enter the number12\n"
     ]
    }
   ],
   "source": [
    "\n",
    "def sumnonrep(n):\n",
    "    li=[]\n",
    "    i=0\n",
    "    sum=0\n",
    "    while i<n:\n",
    "        a=int(input(\"Enter the number\"))\n",
    "        li.append(a)\n",
    "        i+=1\n",
    "    print(li)\n",
    "    for i in range(len(li)):\n",
    "        a=li.count(li[i])\n",
    "        if a==1:\n",
    "            sum=sum+li[i]\n",
    "    if sum == 0:\n",
    "        return -1\n",
    "    return sum\n",
    "sumnonrep(5)"
   ]
  }
 ],
 "metadata": {
  "kernelspec": {
   "display_name": "Python 3",
   "language": "python",
   "name": "python3"
  },
  "language_info": {
   "codemirror_mode": {
    "name": "ipython",
    "version": 3
   },
   "file_extension": ".py",
   "mimetype": "text/x-python",
   "name": "python",
   "nbconvert_exporter": "python",
   "pygments_lexer": "ipython3",
   "version": "3.7.0"
  }
 },
 "nbformat": 4,
 "nbformat_minor": 2
}
