{
 "cells": [
  {
   "cell_type": "code",
   "execution_count": 1,
   "metadata": {},
   "outputs": [
    {
     "name": "stdout",
     "output_type": "stream",
     "text": [
      "enter number 112\n",
      "enter number 215\n",
      "enter number 37\n",
      "15 is the large number\n"
     ]
    }
   ],
   "source": [
    "#find the large number from the given 3 numbers\n",
    "a1=int(input(\"enter number 1\"))\n",
    "a2=int(input(\"enter number 2\"))\n",
    "a3=int(input(\"enter number 3\"))\n",
    "\n",
    "if a1>a2 and a1>a3:\n",
    "    print(a1,\"is the large number\")\n",
    "elif a2>a1 and a2>a3:\n",
    "    print(a2,\"is the large number\")\n",
    "else:\n",
    "    print(a3,\"is the large number\")"
   ]
  },
  {
   "cell_type": "code",
   "execution_count": 3,
   "metadata": {},
   "outputs": [
    {
     "name": "stdout",
     "output_type": "stream",
     "text": [
      "enter the year2020\n",
      "the given year is leap year\n"
     ]
    }
   ],
   "source": [
    "#check if the gievn year is leap year or not\n",
    "a=int(input(\"enter the year\"))\n",
    "if a%4==0:\n",
    "    print(\"the given year is leap year\")\n",
    "else:\n",
    "    print(\"the given year is not a leap year\")"
   ]
  },
  {
   "cell_type": "markdown",
   "metadata": {},
   "source": [
    "### Iteration\n",
    "- while\n",
    "- for\n",
    "\n",
    "**syntax**:\n",
    "- while boolean_condition:\n",
    "- statements\n",
    "- increment/decrement"
   ]
  },
  {
   "cell_type": "code",
   "execution_count": 5,
   "metadata": {},
   "outputs": [
    {
     "name": "stdout",
     "output_type": "stream",
     "text": [
      "gitam\n",
      "gitam\n",
      "gitam\n",
      "gitam\n",
      "gitam\n"
     ]
    }
   ],
   "source": [
    "# need print \"gitam\" for 5 times\n",
    "x = 0\n",
    "while x < 5:\n",
    "    print(\"gitam\")\n",
    "    x = x+1"
   ]
  },
  {
   "cell_type": "code",
   "execution_count": 7,
   "metadata": {},
   "outputs": [
    {
     "name": "stdout",
     "output_type": "stream",
     "text": [
      "enter n value10\n",
      "1 2 3 4 5 6 7 8 9 10 "
     ]
    }
   ],
   "source": [
    "# print N natural numbers using while loop\n",
    "#input 10\n",
    "#output 1 2 3 ... 10\n",
    "i=1\n",
    "a=int(input(\"enter n value\"))\n",
    "while i<=10:\n",
    "    print(i,end=\" \")\n",
    "    i=i+1"
   ]
  },
  {
   "cell_type": "code",
   "execution_count": 9,
   "metadata": {},
   "outputs": [
    {
     "name": "stdout",
     "output_type": "stream",
     "text": [
      "sum is 30\n"
     ]
    }
   ],
   "source": [
    "# read a number -- n\n",
    "# add only even numbers between 1 to n\n",
    "#input -- 10\n",
    "#output -- 30\n",
    "i,sum=1,0\n",
    "while i<=10:\n",
    "    if i%2==0 :\n",
    "        sum=sum+i\n",
    "    i=i+1\n",
    "print(\"sum is\",sum)\n"
   ]
  },
  {
   "cell_type": "code",
   "execution_count": 2,
   "metadata": {},
   "outputs": [
    {
     "name": "stdout",
     "output_type": "stream",
     "text": [
      "enter a number123\n",
      "3 2 1 "
     ]
    }
   ],
   "source": [
    "# print the number in reverse\n",
    "n=int(input(\"enter a number\"))\n",
    "while n!=0:\n",
    "    r=n%10\n",
    "    print(r,end=\" \")\n",
    "    n=n // 10"
   ]
  },
  {
   "cell_type": "markdown",
   "metadata": {},
   "source": [
    "### functional programming\n",
    "- simple\n",
    "- easy read\n",
    "- lengthy program divides into sub programs\n",
    "\n",
    "### syntax:\n",
    "- def nameofthefunction(<parameters>):\n",
    "    - statement\n",
    "    - return"
   ]
  },
  {
   "cell_type": "code",
   "execution_count": 4,
   "metadata": {},
   "outputs": [
    {
     "name": "stdout",
     "output_type": "stream",
     "text": [
      "enter a number1234\n"
     ]
    },
    {
     "ename": "SyntaxError",
     "evalue": "'return' outside function (<ipython-input-4-ba87336f2e0f>, line 6)",
     "output_type": "error",
     "traceback": [
      "\u001b[1;36m  File \u001b[1;32m\"<ipython-input-4-ba87336f2e0f>\"\u001b[1;36m, line \u001b[1;32m6\u001b[0m\n\u001b[1;33m    return\u001b[0m\n\u001b[1;37m          ^\u001b[0m\n\u001b[1;31mSyntaxError\u001b[0m\u001b[1;31m:\u001b[0m 'return' outside function\n"
     ]
    }
   ],
   "source": [
    "# read a number -- 1234\n",
    "#output -- 6(2+4)\n",
    "n=int(input(\"enter a number\"))\n",
    "def addevendigits(n):\n",
    "    addevendigits(1234)\n",
    "return"
   ]
  }
 ],
 "metadata": {
  "kernelspec": {
   "display_name": "Python 3",
   "language": "python",
   "name": "python3"
  },
  "language_info": {
   "codemirror_mode": {
    "name": "ipython",
    "version": 3
   },
   "file_extension": ".py",
   "mimetype": "text/x-python",
   "name": "python",
   "nbconvert_exporter": "python",
   "pygments_lexer": "ipython3",
   "version": "3.7.0"
  }
 },
 "nbformat": 4,
 "nbformat_minor": 2
}
